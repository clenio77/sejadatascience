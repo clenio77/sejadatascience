{
 "cells": [
  {
   "cell_type": "markdown",
   "metadata": {},
   "source": [
    "# Aula 05 - Funções e Organização de Código"
   ]
  },
  {
   "cell_type": "markdown",
   "metadata": {
    "ExecuteTime": {
     "end_time": "2021-02-05T01:46:05.254038Z",
     "start_time": "2021-02-05T01:46:05.206037Z"
    }
   },
   "source": [
    "Agenda:\n",
    "    1. Novas perguntas de negócio\n",
    "    2. Planjamento da Solução.\n",
    "    3. A diferença entre um código amador e um profissional.\n",
    "    4. O que são funções e porque são uteis.\n",
    "    5. Dashboards interativos na web\n",
    "    6. Exercicios.\n",
    "    \n",
    "    \n",
    "    \n",
    "1. Novas perguntas de negócio.\n",
    "1.1 Recapitulando o desafio: https://sejaumdascientist.com/os-5-projetos-de-data-science-que-fara-o-recrutador-olhar-para-voce/\n",
    "    \n",
    "\n",
    "1.2. Novas perguntas do CEO para voce:\n",
    "    1. Não consigo usar o mapa que voce me enviou por email.\n",
    "    \n",
    "    2. preciso acessar o mapa e o dashboard do meu celular.\n",
    "    \n",
    "2. Planjamento da Solução\n",
    "2.1 Produto final (o que vou entregar efetivamente?)\n",
    "    - Um link(URL) https://www.houserocket.dashboard.com.br\n",
    "        \n",
    "2.2 Ferramenta para ser utilizada:\n",
    "    - Python 3.8.2\n",
    "    -jupyter Notebook\n",
    "    -Pycharm\n",
    "    \n",
    "2.3 Processo:\n",
    "    1. Organizar meu códigos em funções.\n",
    "    \n",
    "    2. Pesquisar bibliotecas com funções para criar mapas que podem acessar pelo browser.\n",
    "    \n",
    "    \n",
    "3. A diferença de um codigo amador x profissional\n",
    "\n",
    "3.1 Profissional Junior x Profissinal Senior\n",
    "\n",
    "junior:\n",
    "    1. Faz código macarronico\n",
    "    2. faz codigo só pra ele, ninguem entende.\n",
    "    3. Não usa as estruturas de dados corretamente e acha que só existe dataframe\n",
    "    4. não usa funções.\n",
    "    5. não organiza codigo de forma lógica e simples.\n",
    "    \n",
    "    \n",
    "    \n",
    "Senior: \n",
    "    1. faz codigo modular.\n",
    "    2. faz o codigo para seu time e para sua empresa\n",
    "    3. sabe exatamente quando usar as estruturas de dados.\n",
    "    4. usar funções para modularizar e escalar seu codigo.\n",
    "    5. seus codigos parecem livros( facéis de serem lidos, enterpretados, reutilizados.)\n",
    "    \n",
    "    \n",
    " Exercicios\n",
    "1. Organizar o código da aula 04 em funções.\n",
    "2. Refazer o gráfico e o dashboards com o Streamlit\n",
    "3. Testar novos tipos de filtros.\n"
   ]
  },
  {
   "cell_type": "markdown",
   "metadata": {},
   "source": [
    "## imports"
   ]
  },
  {
   "cell_type": "code",
   "execution_count": 2,
   "metadata": {
    "ExecuteTime": {
     "end_time": "2021-02-04T23:51:01.189790Z",
     "start_time": "2021-02-04T23:51:00.898081Z"
    }
   },
   "outputs": [],
   "source": [
    "import pandas as pd\n",
    "\n"
   ]
  },
  {
   "cell_type": "markdown",
   "metadata": {},
   "source": [
    "## Functions "
   ]
  },
  {
   "cell_type": "markdown",
   "metadata": {},
   "source": [
    "#### Requisitos de uma função:\n",
    "1. Nome  - em relação a sua responsabilidade\n",
    "2. Input - parametros de entrada\n",
    "3. Output - dados de saída"
   ]
  },
  {
   "cell_type": "code",
   "execution_count": 18,
   "metadata": {
    "ExecuteTime": {
     "end_time": "2021-02-05T00:12:17.283773Z",
     "start_time": "2021-02-05T00:12:17.281339Z"
    }
   },
   "outputs": [],
   "source": [
    "# View Type of data\n",
    "def show_dtypes(data):\n",
    "    print(data.dtypes)\n",
    "    return None"
   ]
  },
  {
   "cell_type": "code",
   "execution_count": 20,
   "metadata": {
    "ExecuteTime": {
     "end_time": "2021-02-05T00:13:40.888619Z",
     "start_time": "2021-02-05T00:13:40.882849Z"
    }
   },
   "outputs": [],
   "source": [
    "# data dimensions\n",
    "def show_dimensions(data): \n",
    "    print('Number of rows: {}'.format(df1.shape[0]))\n",
    "    print('Number of columns: {}'.format(df1.shape[1]))\n",
    "    return None\n"
   ]
  },
  {
   "cell_type": "code",
   "execution_count": 21,
   "metadata": {
    "ExecuteTime": {
     "end_time": "2021-02-05T00:13:53.363615Z",
     "start_time": "2021-02-05T00:13:53.360884Z"
    }
   },
   "outputs": [
    {
     "name": "stdout",
     "output_type": "stream",
     "text": [
      "Number of rows: 20\n",
      "Number of columns: 6\n"
     ]
    }
   ],
   "source": [
    "show_dimensions(df1)"
   ]
  },
  {
   "cell_type": "markdown",
   "metadata": {},
   "source": [
    "## carregando os dados"
   ]
  },
  {
   "cell_type": "code",
   "execution_count": 3,
   "metadata": {
    "ExecuteTime": {
     "end_time": "2021-02-04T23:51:03.712358Z",
     "start_time": "2021-02-04T23:51:03.669878Z"
    }
   },
   "outputs": [],
   "source": [
    "data = pd.read_csv('./datasets/kc_house_data.csv')"
   ]
  },
  {
   "cell_type": "code",
   "execution_count": null,
   "metadata": {},
   "outputs": [],
   "source": []
  },
  {
   "cell_type": "code",
   "execution_count": null,
   "metadata": {},
   "outputs": [],
   "source": []
  },
  {
   "cell_type": "markdown",
   "metadata": {},
   "source": [
    "## Extraction"
   ]
  },
  {
   "cell_type": "code",
   "execution_count": null,
   "metadata": {},
   "outputs": [],
   "source": []
  },
  {
   "cell_type": "code",
   "execution_count": null,
   "metadata": {},
   "outputs": [],
   "source": []
  },
  {
   "cell_type": "code",
   "execution_count": null,
   "metadata": {},
   "outputs": [],
   "source": []
  },
  {
   "cell_type": "code",
   "execution_count": null,
   "metadata": {},
   "outputs": [],
   "source": []
  },
  {
   "cell_type": "markdown",
   "metadata": {},
   "source": [
    "## Transformation\n"
   ]
  },
  {
   "cell_type": "code",
   "execution_count": null,
   "metadata": {},
   "outputs": [],
   "source": []
  },
  {
   "cell_type": "code",
   "execution_count": null,
   "metadata": {},
   "outputs": [],
   "source": []
  },
  {
   "cell_type": "code",
   "execution_count": null,
   "metadata": {},
   "outputs": [],
   "source": []
  },
  {
   "cell_type": "code",
   "execution_count": null,
   "metadata": {},
   "outputs": [],
   "source": []
  },
  {
   "cell_type": "markdown",
   "metadata": {},
   "source": [
    "## Descriptive statistics"
   ]
  },
  {
   "cell_type": "code",
   "execution_count": 10,
   "metadata": {
    "ExecuteTime": {
     "end_time": "2021-02-04T23:56:28.137808Z",
     "start_time": "2021-02-04T23:56:28.091912Z"
    }
   },
   "outputs": [],
   "source": [
    "num_atributes = data.select_dtypes(include=['int64', 'float64'])\n",
    "\n",
    "# central tendency - media, media\n",
    "import numpy as np\n",
    "pd.set_option('display.float_format', lambda x: '%.3f' % x) \n",
    "media = pd.DataFrame(num_atributes.apply(np.mean, axis=0))\n",
    "mediana = pd.DataFrame(num_atributes.apply(np.median, axis=0))\n",
    "\n",
    "\n",
    "# dispersion -std, min, max\n",
    "std = pd.DataFrame(num_atributes.apply(np.std, axis=0))\n",
    "min_ = pd.DataFrame(num_atributes.apply(np.min, axis=0))\n",
    "max_ = pd.DataFrame(num_atributes.apply(np.max, axis=0))\n",
    "\n",
    "df1 = pd.concat([max_, min_, media, mediana, std], axis=1).reset_index()\n",
    "df1.columns = ['attributes', 'maximo', 'minimo', 'media', 'mediana','std']"
   ]
  },
  {
   "cell_type": "code",
   "execution_count": 11,
   "metadata": {
    "ExecuteTime": {
     "end_time": "2021-02-04T23:56:33.414368Z",
     "start_time": "2021-02-04T23:56:33.403279Z"
    }
   },
   "outputs": [
    {
     "data": {
      "text/html": [
       "<div>\n",
       "<style scoped>\n",
       "    .dataframe tbody tr th:only-of-type {\n",
       "        vertical-align: middle;\n",
       "    }\n",
       "\n",
       "    .dataframe tbody tr th {\n",
       "        vertical-align: top;\n",
       "    }\n",
       "\n",
       "    .dataframe thead th {\n",
       "        text-align: right;\n",
       "    }\n",
       "</style>\n",
       "<table border=\"1\" class=\"dataframe\">\n",
       "  <thead>\n",
       "    <tr style=\"text-align: right;\">\n",
       "      <th></th>\n",
       "      <th>attributes</th>\n",
       "      <th>maximo</th>\n",
       "      <th>minimo</th>\n",
       "      <th>media</th>\n",
       "      <th>mediana</th>\n",
       "      <th>std</th>\n",
       "    </tr>\n",
       "  </thead>\n",
       "  <tbody>\n",
       "    <tr>\n",
       "      <th>0</th>\n",
       "      <td>id</td>\n",
       "      <td>9900000190.000</td>\n",
       "      <td>1000102.000</td>\n",
       "      <td>4580301520.865</td>\n",
       "      <td>3904930410.000</td>\n",
       "      <td>2876499023.428</td>\n",
       "    </tr>\n",
       "    <tr>\n",
       "      <th>1</th>\n",
       "      <td>price</td>\n",
       "      <td>7700000.000</td>\n",
       "      <td>75000.000</td>\n",
       "      <td>540088.142</td>\n",
       "      <td>450000.000</td>\n",
       "      <td>367118.703</td>\n",
       "    </tr>\n",
       "    <tr>\n",
       "      <th>2</th>\n",
       "      <td>bedrooms</td>\n",
       "      <td>33.000</td>\n",
       "      <td>0.000</td>\n",
       "      <td>3.371</td>\n",
       "      <td>3.000</td>\n",
       "      <td>0.930</td>\n",
       "    </tr>\n",
       "    <tr>\n",
       "      <th>3</th>\n",
       "      <td>bathrooms</td>\n",
       "      <td>8.000</td>\n",
       "      <td>0.000</td>\n",
       "      <td>2.115</td>\n",
       "      <td>2.250</td>\n",
       "      <td>0.770</td>\n",
       "    </tr>\n",
       "    <tr>\n",
       "      <th>4</th>\n",
       "      <td>sqft_living</td>\n",
       "      <td>13540.000</td>\n",
       "      <td>290.000</td>\n",
       "      <td>2079.900</td>\n",
       "      <td>1910.000</td>\n",
       "      <td>918.420</td>\n",
       "    </tr>\n",
       "    <tr>\n",
       "      <th>5</th>\n",
       "      <td>sqft_lot</td>\n",
       "      <td>1651359.000</td>\n",
       "      <td>520.000</td>\n",
       "      <td>15106.968</td>\n",
       "      <td>7618.000</td>\n",
       "      <td>41419.553</td>\n",
       "    </tr>\n",
       "    <tr>\n",
       "      <th>6</th>\n",
       "      <td>floors</td>\n",
       "      <td>3.500</td>\n",
       "      <td>1.000</td>\n",
       "      <td>1.494</td>\n",
       "      <td>1.500</td>\n",
       "      <td>0.540</td>\n",
       "    </tr>\n",
       "    <tr>\n",
       "      <th>7</th>\n",
       "      <td>waterfront</td>\n",
       "      <td>1.000</td>\n",
       "      <td>0.000</td>\n",
       "      <td>0.008</td>\n",
       "      <td>0.000</td>\n",
       "      <td>0.087</td>\n",
       "    </tr>\n",
       "    <tr>\n",
       "      <th>8</th>\n",
       "      <td>view</td>\n",
       "      <td>4.000</td>\n",
       "      <td>0.000</td>\n",
       "      <td>0.234</td>\n",
       "      <td>0.000</td>\n",
       "      <td>0.766</td>\n",
       "    </tr>\n",
       "    <tr>\n",
       "      <th>9</th>\n",
       "      <td>condition</td>\n",
       "      <td>5.000</td>\n",
       "      <td>1.000</td>\n",
       "      <td>3.409</td>\n",
       "      <td>3.000</td>\n",
       "      <td>0.651</td>\n",
       "    </tr>\n",
       "    <tr>\n",
       "      <th>10</th>\n",
       "      <td>grade</td>\n",
       "      <td>13.000</td>\n",
       "      <td>1.000</td>\n",
       "      <td>7.657</td>\n",
       "      <td>7.000</td>\n",
       "      <td>1.175</td>\n",
       "    </tr>\n",
       "    <tr>\n",
       "      <th>11</th>\n",
       "      <td>sqft_above</td>\n",
       "      <td>9410.000</td>\n",
       "      <td>290.000</td>\n",
       "      <td>1788.396</td>\n",
       "      <td>nan</td>\n",
       "      <td>828.109</td>\n",
       "    </tr>\n",
       "    <tr>\n",
       "      <th>12</th>\n",
       "      <td>sqft_basement</td>\n",
       "      <td>4820.000</td>\n",
       "      <td>0.000</td>\n",
       "      <td>291.509</td>\n",
       "      <td>0.000</td>\n",
       "      <td>442.565</td>\n",
       "    </tr>\n",
       "    <tr>\n",
       "      <th>13</th>\n",
       "      <td>yr_built</td>\n",
       "      <td>2015.000</td>\n",
       "      <td>1900.000</td>\n",
       "      <td>1971.005</td>\n",
       "      <td>1975.000</td>\n",
       "      <td>29.373</td>\n",
       "    </tr>\n",
       "    <tr>\n",
       "      <th>14</th>\n",
       "      <td>yr_renovated</td>\n",
       "      <td>2015.000</td>\n",
       "      <td>0.000</td>\n",
       "      <td>84.402</td>\n",
       "      <td>0.000</td>\n",
       "      <td>401.670</td>\n",
       "    </tr>\n",
       "    <tr>\n",
       "      <th>15</th>\n",
       "      <td>zipcode</td>\n",
       "      <td>98199.000</td>\n",
       "      <td>98001.000</td>\n",
       "      <td>98077.940</td>\n",
       "      <td>98065.000</td>\n",
       "      <td>53.504</td>\n",
       "    </tr>\n",
       "    <tr>\n",
       "      <th>16</th>\n",
       "      <td>lat</td>\n",
       "      <td>47.778</td>\n",
       "      <td>47.156</td>\n",
       "      <td>47.560</td>\n",
       "      <td>47.572</td>\n",
       "      <td>0.139</td>\n",
       "    </tr>\n",
       "    <tr>\n",
       "      <th>17</th>\n",
       "      <td>long</td>\n",
       "      <td>-121.315</td>\n",
       "      <td>-122.519</td>\n",
       "      <td>-122.214</td>\n",
       "      <td>-122.230</td>\n",
       "      <td>0.141</td>\n",
       "    </tr>\n",
       "    <tr>\n",
       "      <th>18</th>\n",
       "      <td>sqft_living15</td>\n",
       "      <td>6210.000</td>\n",
       "      <td>399.000</td>\n",
       "      <td>1986.552</td>\n",
       "      <td>1840.000</td>\n",
       "      <td>685.375</td>\n",
       "    </tr>\n",
       "    <tr>\n",
       "      <th>19</th>\n",
       "      <td>sqft_lot15</td>\n",
       "      <td>871200.000</td>\n",
       "      <td>651.000</td>\n",
       "      <td>12768.456</td>\n",
       "      <td>7620.000</td>\n",
       "      <td>27303.548</td>\n",
       "    </tr>\n",
       "  </tbody>\n",
       "</table>\n",
       "</div>"
      ],
      "text/plain": [
       "       attributes         maximo      minimo          media        mediana  \\\n",
       "0              id 9900000190.000 1000102.000 4580301520.865 3904930410.000   \n",
       "1           price    7700000.000   75000.000     540088.142     450000.000   \n",
       "2        bedrooms         33.000       0.000          3.371          3.000   \n",
       "3       bathrooms          8.000       0.000          2.115          2.250   \n",
       "4     sqft_living      13540.000     290.000       2079.900       1910.000   \n",
       "5        sqft_lot    1651359.000     520.000      15106.968       7618.000   \n",
       "6          floors          3.500       1.000          1.494          1.500   \n",
       "7      waterfront          1.000       0.000          0.008          0.000   \n",
       "8            view          4.000       0.000          0.234          0.000   \n",
       "9       condition          5.000       1.000          3.409          3.000   \n",
       "10          grade         13.000       1.000          7.657          7.000   \n",
       "11     sqft_above       9410.000     290.000       1788.396            nan   \n",
       "12  sqft_basement       4820.000       0.000        291.509          0.000   \n",
       "13       yr_built       2015.000    1900.000       1971.005       1975.000   \n",
       "14   yr_renovated       2015.000       0.000         84.402          0.000   \n",
       "15        zipcode      98199.000   98001.000      98077.940      98065.000   \n",
       "16            lat         47.778      47.156         47.560         47.572   \n",
       "17           long       -121.315    -122.519       -122.214       -122.230   \n",
       "18  sqft_living15       6210.000     399.000       1986.552       1840.000   \n",
       "19     sqft_lot15     871200.000     651.000      12768.456       7620.000   \n",
       "\n",
       "              std  \n",
       "0  2876499023.428  \n",
       "1      367118.703  \n",
       "2           0.930  \n",
       "3           0.770  \n",
       "4         918.420  \n",
       "5       41419.553  \n",
       "6           0.540  \n",
       "7           0.087  \n",
       "8           0.766  \n",
       "9           0.651  \n",
       "10          1.175  \n",
       "11        828.109  \n",
       "12        442.565  \n",
       "13         29.373  \n",
       "14        401.670  \n",
       "15         53.504  \n",
       "16          0.139  \n",
       "17          0.141  \n",
       "18        685.375  \n",
       "19      27303.548  "
      ]
     },
     "execution_count": 11,
     "metadata": {},
     "output_type": "execute_result"
    }
   ],
   "source": [
    "df1"
   ]
  },
  {
   "cell_type": "code",
   "execution_count": 13,
   "metadata": {
    "ExecuteTime": {
     "end_time": "2021-02-04T23:59:24.924123Z",
     "start_time": "2021-02-04T23:59:24.920686Z"
    }
   },
   "outputs": [
    {
     "name": "stdout",
     "output_type": "stream",
     "text": [
      "Number of rows: 20\n",
      "Number of columns: 6\n"
     ]
    }
   ],
   "source": []
  },
  {
   "cell_type": "code",
   "execution_count": null,
   "metadata": {},
   "outputs": [],
   "source": []
  },
  {
   "cell_type": "code",
   "execution_count": null,
   "metadata": {},
   "outputs": [],
   "source": []
  },
  {
   "cell_type": "code",
   "execution_count": null,
   "metadata": {},
   "outputs": [],
   "source": []
  },
  {
   "cell_type": "code",
   "execution_count": null,
   "metadata": {},
   "outputs": [],
   "source": []
  },
  {
   "cell_type": "code",
   "execution_count": null,
   "metadata": {},
   "outputs": [],
   "source": []
  },
  {
   "cell_type": "code",
   "execution_count": null,
   "metadata": {},
   "outputs": [],
   "source": []
  },
  {
   "cell_type": "code",
   "execution_count": null,
   "metadata": {},
   "outputs": [],
   "source": []
  },
  {
   "cell_type": "code",
   "execution_count": null,
   "metadata": {},
   "outputs": [],
   "source": []
  }
 ],
 "metadata": {
  "kernelspec": {
   "display_name": "Python 3",
   "language": "python",
   "name": "python3"
  },
  "language_info": {
   "codemirror_mode": {
    "name": "ipython",
    "version": 3
   },
   "file_extension": ".py",
   "mimetype": "text/x-python",
   "name": "python",
   "nbconvert_exporter": "python",
   "pygments_lexer": "ipython3",
   "version": "3.8.2"
  },
  "nbTranslate": {
   "displayLangs": [
    "*"
   ],
   "hotkey": "alt-t",
   "langInMainMenu": true,
   "sourceLang": "en",
   "targetLang": "fr",
   "useGoogleTranslate": true
  }
 },
 "nbformat": 4,
 "nbformat_minor": 2
}
