{
 "cells": [
  {
   "cell_type": "code",
   "execution_count": null,
   "metadata": {},
   "outputs": [],
   "source": [
    "1.0 Requisição do CEO\n",
    "\n",
    "1.1 Gostaria de chegar de manhã na minha mesa e\n",
    "ter um lugar unico onde eu possa observar o portfólio da House Rocket. Nesse portifolio, eu tenho interesse:\n",
    "       1. Filtros dos imóveis por um ou varias regiões.\n",
    "        2. Escolher uma ou mais variaveis para visualizar.\n",
    "        3. Observar o número total de imoveis, a media de preço, a média da sala de estar e também a média do \n",
    "        preço por metro quadrado em cada um dos codigos postais.\n",
    "        4. Analisar cada uma das colunas de um modo mais descrito.\n",
    "        5. Um mapa com a densidade de portfolio p\n",
    "        \n",
    "2.0 Planjamento da solução\n",
    "    2.1. Produto final\n",
    "        - um link para acessar o dashboard\n",
    "        \n",
    "    2.2. AS ferramentas de uso\n",
    "        -Python 3.8.2\n",
    "        -Pycharm\n",
    "        \n",
    "2.3. Processo\n",
    "    1. Filtros dos imoveis por um ou várias regioes.\n",
    "        -objetivo: visualizar imoveis por codigo postal\n",
    "        -Ação do usuario: Digitar um ou mais codigos desejados\n",
    "        -A visualização: Uma tabela com todos os atributos e filtrada por codigo postal.\n",
    "            \n",
    "    2. Escolher uma ou mais variáveis para visualizar\n",
    "    3. observar o numero total de imoveis, a média de preço, a média\n",
    "    4.\n",
    "    5. Uma mapa com a densidade de portfólio por região e também densidade de preço.\n",
    "    6. Checar a variação anual de preço.\n",
    "        -objetivo: observar variáveis anuais de preços\n",
    "        - ação do usuario: filtra os dados por ano.\n",
    "        - a visualização: um grafico de linha com os anos em x e preços médios em y\n",
    "            \n",
    "    7. Checar a variação diária de preço.\n",
    "    8. Conferir a distribuição dos imóveis por:\n",
    "        - preço,\n",
    "        - numero de banheiros\n",
    "        - numero de andares\n",
    "        - vista para a agua ou nao\n",
    "    \n",
    "    \n",
    "3. Criação de Dashboard \n"
   ]
  }
 ],
 "metadata": {
  "kernelspec": {
   "display_name": "Python 3",
   "language": "python",
   "name": "python3"
  },
  "language_info": {
   "codemirror_mode": {
    "name": "ipython",
    "version": 3
   },
   "file_extension": ".py",
   "mimetype": "text/x-python",
   "name": "python",
   "nbconvert_exporter": "python",
   "pygments_lexer": "ipython3",
   "version": "3.8.2"
  },
  "nbTranslate": {
   "displayLangs": [
    "*"
   ],
   "hotkey": "alt-t",
   "langInMainMenu": true,
   "sourceLang": "en",
   "targetLang": "fr",
   "useGoogleTranslate": true
  }
 },
 "nbformat": 4,
 "nbformat_minor": 2
}
